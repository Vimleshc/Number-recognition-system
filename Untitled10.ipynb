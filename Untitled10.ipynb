{
  "nbformat": 4,
  "nbformat_minor": 0,
  "metadata": {
    "colab": {
      "provenance": []
    },
    "kernelspec": {
      "name": "python3",
      "display_name": "Python 3"
    },
    "language_info": {
      "name": "python"
    }
  },
  "cells": [
    {
      "cell_type": "code",
      "source": [
        "import matplotlib.pyplot as plt\n",
        "import tensorflow as tf #import required library"
      ],
      "metadata": {
        "id": "NHYg2-tvSLRi"
      },
      "execution_count": 1,
      "outputs": []
    },
    {
      "cell_type": "code",
      "source": [
        "mnist = tf.keras.datasets.mnist #pre loaded dataset of 1000s of hand written digits"
      ],
      "metadata": {
        "id": "mNEjfGezSfUw"
      },
      "execution_count": 2,
      "outputs": []
    },
    {
      "cell_type": "code",
      "source": [
        "(x_train, y_train), (x_test, y_test) = mnist.load_data() # separation of mnist dataset into training and test data a standard of 80:20 is followed\n",
        "\n",
        "x_train = tf.keras.utils.normalize(x_train, axis = 1)\n",
        "x_test = tf.keras.utils.normalize(x_test, axis = 1) # values are normalised to be bounded by 1 in order to prevent exploding values\n",
        "\n",
        "#here we created a very basic neural network consiting of 2 hidden layer with 200 neuron each and 784 input values as all our images are 28x28 px to give us the output which can be from digits 0 to 9\n",
        "# furthermore all layers are dense meaning each layer's value is connected to every neuron in its adjacent layers. We used rectified linear and softmax activation as our activation function of lyers respectively.\n",
        "\n",
        "model = tf.keras.models.Sequential()\n",
        "model.add(tf.keras.layers.Flatten())\n",
        "model.add(tf.keras.layers.Dense(200, activation = tf.nn.relu))\n",
        "model.add(tf.keras.layers.Dense(200, activation = tf.nn.relu))\n",
        "model.add(tf.keras.layers.Dense(10, activation = tf.nn.softmax))\n",
        "\n",
        "\n",
        "#adam optimized was used in tandem with sparse categorical crossentropy to calculate loss and accuracy of the model.\n",
        "model.compile(optimizer = 'adam',\n",
        "              loss = 'sparse_categorical_crossentropy',\n",
        "              metrics = ['accuracy'])\n",
        "#madel was trained over training data over 3 epochs\n",
        "model.fit(x_train, y_train, epochs = 3)"
      ],
      "metadata": {
        "colab": {
          "base_uri": "https://localhost:8080/"
        },
        "id": "3DhalP_GSrDx",
        "outputId": "0947a442-b053-4850-f02f-a4a8ee893e79"
      },
      "execution_count": 3,
      "outputs": [
        {
          "output_type": "stream",
          "name": "stdout",
          "text": [
            "Downloading data from https://storage.googleapis.com/tensorflow/tf-keras-datasets/mnist.npz\n",
            "11490434/11490434 [==============================] - 0s 0us/step\n",
            "Epoch 1/3\n",
            "1875/1875 [==============================] - 11s 6ms/step - loss: 0.2412 - accuracy: 0.9282\n",
            "Epoch 2/3\n",
            "1875/1875 [==============================] - 12s 6ms/step - loss: 0.0946 - accuracy: 0.9709\n",
            "Epoch 3/3\n",
            "1875/1875 [==============================] - 8s 4ms/step - loss: 0.0633 - accuracy: 0.9802\n"
          ]
        },
        {
          "output_type": "execute_result",
          "data": {
            "text/plain": [
              "<keras.callbacks.History at 0x7bf8e34ae8c0>"
            ]
          },
          "metadata": {},
          "execution_count": 3
        }
      ]
    },
    {
      "cell_type": "code",
      "source": [
        "val_loss, val_acc = model.evaluate(x_test, y_test)\n",
        "print(val_loss, val_acc)#gives us the loss and accuracy of the model for test data."
      ],
      "metadata": {
        "colab": {
          "base_uri": "https://localhost:8080/"
        },
        "id": "rxtjmEv7W95r",
        "outputId": "d3d585af-2110-48f5-a650-39080f4c580c"
      },
      "execution_count": 11,
      "outputs": [
        {
          "output_type": "stream",
          "name": "stdout",
          "text": [
            "313/313 [==============================] - 0s 1ms/step - loss: 0.0878 - accuracy: 0.9739\n",
            "0.08777845650911331 0.9739000201225281\n"
          ]
        }
      ]
    },
    {
      "cell_type": "code",
      "source": [
        "\n",
        "\n",
        "plt.imshow(x_train[0], cmap = plt.cm.binary )\n",
        "\n",
        "# print(x_train[0])\n",
        "#shows the hand written image of first image of training dataset"
      ],
      "metadata": {
        "colab": {
          "base_uri": "https://localhost:8080/",
          "height": 448
        },
        "id": "kYRu3OjUTAkF",
        "outputId": "1ba2ad13-e44b-415c-9ae4-69a863b294a4"
      },
      "execution_count": 5,
      "outputs": [
        {
          "output_type": "execute_result",
          "data": {
            "text/plain": [
              "<matplotlib.image.AxesImage at 0x7bf8e337d870>"
            ]
          },
          "metadata": {},
          "execution_count": 5
        },
        {
          "output_type": "display_data",
          "data": {
            "text/plain": [
              "<Figure size 640x480 with 1 Axes>"
            ],
            "image/png": "[encoded data removed]"
          },
          "metadata": {}
        }
      ]
    },
    {
      "cell_type": "code",
      "source": [
        "model.save('epic_num_reader.model') #save the model"
      ],
      "metadata": {
        "id": "to__54XmXWfN",
        "colab": {
          "base_uri": "https://localhost:8080/"
        },
        "outputId": "025644da-8b5a-44ac-d05c-f7bdb85fbb35"
      },
      "execution_count": 6,
      "outputs": [
        {
          "output_type": "stream",
          "name": "stderr",
          "text": [
            "WARNING:absl:Found untraced functions such as _update_step_xla while saving (showing 1 of 1). These functions will not be directly callable after loading.\n"
          ]
        }
      ]
    },
    {
      "cell_type": "code",
      "source": [
        "new_model = tf.keras.models.load_model('epic_num_reader.model')#loading of model"
      ],
      "metadata": {
        "id": "g5ij4kzkXecN"
      },
      "execution_count": 7,
      "outputs": []
    },
    {
      "cell_type": "code",
      "source": [
        "predictions = new_model.predict([x_test])\n",
        "\n",
        "print(predictions) #gives us the matrix of probability of each output possible for each test value of dataset"
      ],
      "metadata": {
        "colab": {
          "base_uri": "https://localhost:8080/"
        },
        "id": "hdpPs-1dX3vE",
        "outputId": "3e868a09-8e65-4545-fdd2-9f7150e6fcb4"
      },
      "execution_count": 8,
      "outputs": [
        {
          "output_type": "stream",
          "name": "stdout",
          "text": [
            "313/313 [==============================] - 0s 1ms/step\n",
            "[[2.3671567e-10 1.7177541e-08 1.6893877e-05 ... 9.9997360e-01\n",
            "  6.4357191e-09 1.7750724e-08]\n",
            " [9.5657241e-12 1.4253182e-04 9.9985719e-01 ... 1.8701702e-09\n",
            "  1.8242616e-08 8.3492263e-13]\n",
            " [3.0521221e-08 9.9986100e-01 4.1433144e-05 ... 4.8689562e-05\n",
            "  3.1864165e-05 8.6216779e-08]\n",
            " ...\n",
            " [6.0045759e-09 1.6299748e-06 8.6085812e-08 ... 1.3690721e-05\n",
            "  1.1410669e-06 4.7700079e-05]\n",
            " [2.3873336e-06 1.9195008e-06 2.1907621e-07 ... 2.9188237e-05\n",
            "  2.5993839e-03 5.1676427e-08]\n",
            " [2.0938921e-07 8.6904258e-08 1.4514712e-06 ... 2.0046657e-10\n",
            "  4.3807102e-08 1.5107102e-09]]\n"
          ]
        }
      ]
    },
    {
      "cell_type": "code",
      "source": [
        "import numpy as np\n",
        "print(np.argmax(predictions[7])) #model predicted value for given indices in the test value"
      ],
      "metadata": {
        "colab": {
          "base_uri": "https://localhost:8080/"
        },
        "id": "8egWYktpYJGV",
        "outputId": "40a8c628-a67f-4abf-d6b7-0e3b4f6e252d"
      },
      "execution_count": 9,
      "outputs": [
        {
          "output_type": "stream",
          "name": "stdout",
          "text": [
            "9\n"
          ]
        }
      ]
    },
    {
      "cell_type": "code",
      "source": [
        "plt.imshow(x_test[7])\n",
        "plt.show() #checks that our model performed well over the data provided"
      ],
      "metadata": {
        "colab": {
          "base_uri": "https://localhost:8080/",
          "height": 430
        },
        "id": "40dBXOiDYce3",
        "outputId": "db1e3cc7-fbcd-4889-c6d7-dcafe4ef2052"
      },
      "execution_count": 10,
      "outputs": [
        {
          "output_type": "display_data",
          "data": {
            "text/plain": [
              "<Figure size 640x480 with 1 Axes>"
            ],
            "image/png": "[encoded data removed]"
          },
          "metadata": {}
        }
      ]
    }
  ]
}